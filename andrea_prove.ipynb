{
 "cells": [
  {
   "cell_type": "code",
   "execution_count": 1,
   "id": "18e79010",
   "metadata": {},
   "outputs": [
    {
     "name": "stderr",
     "output_type": "stream",
     "text": [
      "c:\\Users\\andre\\OneDrive\\Desktop\\UNI\\magistrale\\Reinforcement\\multi_agent\\env\\Lib\\site-packages\\pygame\\pkgdata.py:25: UserWarning: pkg_resources is deprecated as an API. See https://setuptools.pypa.io/en/latest/pkg_resources.html. The pkg_resources package is slated for removal as early as 2025-11-30. Refrain from using this package or pin to Setuptools<81.\n",
      "  from pkg_resources import resource_stream, resource_exists\n"
     ]
    }
   ],
   "source": [
    "from ultimatetictactoe import ultimatetictactoe\n",
    "from algo.base_algo.base_algo import RandomAgent, NeuralAgent, ManualAgent\n",
    "\n",
    "import torch\n",
    "from torch import nn\n",
    "import torch.optim as optim\n",
    "\n",
    "import numpy as np\n",
    "\n",
    "import random"
   ]
  },
  {
   "cell_type": "code",
   "execution_count": 2,
   "id": "3fe6017e",
   "metadata": {},
   "outputs": [],
   "source": [
    "env = ultimatetictactoe.env(render_mode=\"human\")\n",
    "env.reset(42)"
   ]
  },
  {
   "cell_type": "code",
   "execution_count": 3,
   "id": "a29b6247",
   "metadata": {},
   "outputs": [
    {
     "data": {
      "text/plain": [
       "({'observation': array([[[0, 0, 0, 0, 0, 0, 0, 0, 0],\n",
       "          [0, 0, 0, 0, 0, 0, 0, 0, 0],\n",
       "          [0, 0, 0, 0, 0, 0, 0, 0, 0],\n",
       "          [0, 0, 0, 0, 0, 0, 0, 0, 0],\n",
       "          [0, 0, 0, 0, 0, 0, 0, 0, 0],\n",
       "          [0, 0, 0, 0, 0, 0, 0, 0, 0],\n",
       "          [0, 0, 0, 0, 0, 0, 0, 0, 0],\n",
       "          [0, 0, 0, 0, 0, 0, 0, 0, 0],\n",
       "          [0, 0, 0, 0, 0, 0, 0, 0, 0]],\n",
       "  \n",
       "         [[0, 0, 0, 0, 0, 0, 0, 0, 0],\n",
       "          [0, 0, 0, 0, 0, 0, 0, 0, 0],\n",
       "          [0, 0, 0, 0, 0, 0, 0, 0, 0],\n",
       "          [0, 0, 0, 0, 0, 0, 0, 0, 0],\n",
       "          [0, 0, 0, 0, 0, 0, 0, 0, 0],\n",
       "          [0, 0, 0, 0, 0, 0, 0, 0, 0],\n",
       "          [0, 0, 0, 0, 0, 0, 0, 0, 0],\n",
       "          [0, 0, 0, 0, 0, 0, 0, 0, 0],\n",
       "          [0, 0, 0, 0, 0, 0, 0, 0, 0]]], dtype=int8),\n",
       "  'action_mask': array([1, 1, 1, 1, 1, 1, 1, 1, 1, 1, 1, 1, 1, 1, 1, 1, 1, 1, 1, 1, 1, 1,\n",
       "         1, 1, 1, 1, 1, 1, 1, 1, 1, 1, 1, 1, 1, 1, 1, 1, 1, 1, 1, 1, 1, 1,\n",
       "         1, 1, 1, 1, 1, 1, 1, 1, 1, 1, 1, 1, 1, 1, 1, 1, 1, 1, 1, 1, 1, 1,\n",
       "         1, 1, 1, 1, 1, 1, 1, 1, 1, 1, 1, 1, 1, 1, 1], dtype=int8),\n",
       "  'turn': 0},\n",
       " 0,\n",
       " False,\n",
       " False,\n",
       " {})"
      ]
     },
     "execution_count": 3,
     "metadata": {},
     "output_type": "execute_result"
    }
   ],
   "source": [
    "env.last()"
   ]
  },
  {
   "cell_type": "code",
   "execution_count": 4,
   "id": "a32ca220",
   "metadata": {},
   "outputs": [
    {
     "data": {
      "text/plain": [
       "['player_1', 'player_2']"
      ]
     },
     "execution_count": 4,
     "metadata": {},
     "output_type": "execute_result"
    }
   ],
   "source": [
    "env.agents"
   ]
  },
  {
   "cell_type": "code",
   "execution_count": 5,
   "id": "27f47e00",
   "metadata": {},
   "outputs": [],
   "source": [
    "# TODO: bug with rewards\n",
    "\n",
    "def old_trajectory(env, agent1, agent2):\n",
    "    env.reset()\n",
    "\n",
    "    states = []\n",
    "    actions = []\n",
    "    rewards = []\n",
    "\n",
    "    counter = 0\n",
    "    for agent in env.agent_iter():\n",
    "        \n",
    "        observation, reward, termination, truncation, info = env.last()\n",
    "        if termination or truncation:\n",
    "            break\n",
    "        state = observation['observation']\n",
    "\n",
    "        if agent == \"player_1\":\n",
    "            action = agent1.pick_action(env)\n",
    "        else:\n",
    "            action = agent2.pick_action(env)\n",
    "        \n",
    "        states.append(state)\n",
    "        actions.append(action)\n",
    "        if counter >= 2:\n",
    "            rewards.append(reward)\n",
    "\n",
    "        # rewards\n",
    "        if counter >= 2:\n",
    "            if agent == \"player_1\":\n",
    "                rewards\n",
    "        \n",
    "        env.step(action)\n",
    "        counter += 1\n",
    "    rewards.append(env.rewards[env.agent_selection])\n",
    "    env.agent_selection = env._agent_selector.next()\n",
    "    rewards.append(env.rewards[env.agent_selection])\n",
    "\n",
    "    return states, actions, rewards\n",
    "\n",
    "# def split_trajectory(trajectory):\n",
    "#     # states, actions, rewards = trajectory\n",
    "#     # return {\"player_1\": {'states': states[0::2], 'actions': actions[0::2], 'rewards': rewards}}"
   ]
  },
  {
   "cell_type": "code",
   "execution_count": 6,
   "id": "76ad9da9",
   "metadata": {},
   "outputs": [],
   "source": [
    "def compute_trajectory(env, agent1_policy, agent2_policy):\n",
    "    \"\"\"\n",
    "    Collects a trajectory for two agents using env.last() and env.agent_iter().\n",
    "    \"\"\"\n",
    "    env.reset()\n",
    "\n",
    "    trajectory = {\n",
    "        \"player_1\": {\"observations\": [], \"actions\": [], \"rewards\": []},\n",
    "        \"player_2\": {\"observations\": [], \"actions\": [], \"rewards\": []},\n",
    "    }\n",
    "    turn = 0\n",
    "    for agent in env.agent_iter():\n",
    "        obs, reward, termination, truncation, info = env.last()  # get last step info\n",
    "\n",
    "        if termination or truncation:\n",
    "            action = None  # agent is done, no action to take\n",
    "        else:\n",
    "            # choose action according to agent\n",
    "            if agent == \"player_1\":\n",
    "                action = agent1_policy.pick_action(env)\n",
    "            else:\n",
    "                action = agent2_policy.pick_action(env)\n",
    "\n",
    "        # Record observation, action, reward\n",
    "        if not (termination or truncation):\n",
    "            trajectory[agent][\"observations\"].append(obs['observation'])\n",
    "            trajectory[agent][\"actions\"].append(action)\n",
    "        if turn >= 2:\n",
    "            trajectory[agent][\"rewards\"].append(reward)\n",
    "\n",
    "        env.step(action)  # take the action (None if done)\n",
    "        turn += 1\n",
    "\n",
    "    return trajectory"
   ]
  },
  {
   "cell_type": "code",
   "execution_count": 7,
   "id": "9e897887",
   "metadata": {},
   "outputs": [],
   "source": [
    "a1 = ManualAgent(\"player_1\")\n",
    "a2 = RandomAgent(\"player_2\")"
   ]
  },
  {
   "cell_type": "code",
   "execution_count": 8,
   "id": "b432fe21",
   "metadata": {},
   "outputs": [],
   "source": [
    "env.metadata['render_fps'] = 5"
   ]
  },
  {
   "cell_type": "code",
   "execution_count": 9,
   "id": "15b6e5b7",
   "metadata": {},
   "outputs": [],
   "source": [
    "a, b = '0 0'.split(' ')"
   ]
  },
  {
   "cell_type": "code",
   "execution_count": 10,
   "id": "11748204",
   "metadata": {},
   "outputs": [
    {
     "data": {
      "text/plain": [
       "0"
      ]
     },
     "execution_count": 10,
     "metadata": {},
     "output_type": "execute_result"
    }
   ],
   "source": [
    "int(a)"
   ]
  },
  {
   "cell_type": "code",
   "execution_count": null,
   "id": "5915cc91",
   "metadata": {},
   "outputs": [
    {
     "name": "stdout",
     "output_type": "stream",
     "text": [
      "[[0 0 0]\n",
      " [0 0 0]\n",
      " [0 0 0]]\n",
      "0 0\n",
      "[[0 0 0]\n",
      " [0 0 0]\n",
      " [0 0 0]]\n",
      "4 4\n",
      "[[0 0 0]\n",
      " [0 0 0]\n",
      " [0 0 0]]\n",
      "8 8\n",
      "[[0 0 0]\n",
      " [0 0 0]\n",
      " [0 0 0]]\n",
      "3 3\n",
      "[[0 0 0]\n",
      " [0 0 0]\n",
      " [0 0 0]]\n",
      "4 7\n",
      "[[0 0 0]\n",
      " [0 0 0]\n",
      " [0 0 0]]\n",
      "4 1\n",
      "[[0 0 0]\n",
      " [0 1 0]\n",
      " [0 0 0]]\n"
     ]
    },
    {
     "ename": "ValueError",
     "evalue": "not enough values to unpack (expected 2, got 1)",
     "output_type": "error",
     "traceback": [
      "\u001b[31m---------------------------------------------------------------------------\u001b[39m",
      "\u001b[31mValueError\u001b[39m                                Traceback (most recent call last)",
      "\u001b[36mCell\u001b[39m\u001b[36m \u001b[39m\u001b[32mIn[11]\u001b[39m\u001b[32m, line 1\u001b[39m\n\u001b[32m----> \u001b[39m\u001b[32m1\u001b[39m r = \u001b[43mcompute_trajectory\u001b[49m\u001b[43m(\u001b[49m\u001b[43menv\u001b[49m\u001b[43m,\u001b[49m\u001b[43m \u001b[49m\u001b[43ma1\u001b[49m\u001b[43m,\u001b[49m\u001b[43m \u001b[49m\u001b[43ma2\u001b[49m\u001b[43m)\u001b[49m\n",
      "\u001b[36mCell\u001b[39m\u001b[36m \u001b[39m\u001b[32mIn[6]\u001b[39m\u001b[32m, line 20\u001b[39m, in \u001b[36mcompute_trajectory\u001b[39m\u001b[34m(env, agent1_policy, agent2_policy)\u001b[39m\n\u001b[32m     17\u001b[39m \u001b[38;5;28;01melse\u001b[39;00m:\n\u001b[32m     18\u001b[39m     \u001b[38;5;66;03m# choose action according to agent\u001b[39;00m\n\u001b[32m     19\u001b[39m     \u001b[38;5;28;01mif\u001b[39;00m agent == \u001b[33m\"\u001b[39m\u001b[33mplayer_1\u001b[39m\u001b[33m\"\u001b[39m:\n\u001b[32m---> \u001b[39m\u001b[32m20\u001b[39m         action = \u001b[43magent1_policy\u001b[49m\u001b[43m.\u001b[49m\u001b[43mpick_action\u001b[49m\u001b[43m(\u001b[49m\u001b[43menv\u001b[49m\u001b[43m)\u001b[49m\n\u001b[32m     21\u001b[39m     \u001b[38;5;28;01melse\u001b[39;00m:\n\u001b[32m     22\u001b[39m         action = agent2_policy.pick_action(env)\n",
      "\u001b[36mFile \u001b[39m\u001b[32mc:\\Users\\andre\\OneDrive\\Desktop\\UNI\\magistrale\\Reinforcement\\multi_agent\\SuperTicTacToe\\algo\\base_algo\\base_algo.py:56\u001b[39m, in \u001b[36mManualAgent.pick_action\u001b[39m\u001b[34m(self, env)\u001b[39m\n\u001b[32m     54\u001b[39m \u001b[38;5;28mprint\u001b[39m(env.board)\n\u001b[32m     55\u001b[39m action = \u001b[38;5;28minput\u001b[39m(\u001b[33m\"\u001b[39m\u001b[33minsert position: \u001b[39m\u001b[33m\"\u001b[39m)\n\u001b[32m---> \u001b[39m\u001b[32m56\u001b[39m super_pos, sub_pos = action.split(\u001b[33m'\u001b[39m\u001b[33m \u001b[39m\u001b[33m'\u001b[39m)\n\u001b[32m     57\u001b[39m \u001b[38;5;28mprint\u001b[39m(super_pos, sub_pos)\n\u001b[32m     58\u001b[39m super_pos = \u001b[38;5;28mint\u001b[39m(super_pos)\n",
      "\u001b[31mValueError\u001b[39m: not enough values to unpack (expected 2, got 1)"
     ]
    }
   ],
   "source": [
    "r = (env, a1, a2)"
   ]
  },
  {
   "cell_type": "markdown",
   "id": "a3c528cd",
   "metadata": {},
   "source": [
    "# REINFOCE"
   ]
  },
  {
   "cell_type": "code",
   "execution_count": null,
   "id": "d0c69b44",
   "metadata": {},
   "outputs": [],
   "source": [
    "a = NeuralAgent(\"agent\")"
   ]
  },
  {
   "cell_type": "code",
   "execution_count": null,
   "id": "68ae4c81",
   "metadata": {},
   "outputs": [],
   "source": [
    "def reinforce(env, agent1, agent2, num_episodes, gamma):\n",
    "    for episode in range(num_episodes):\n",
    "        trajectory = compute_trajectory(env, agent1, agent2)\n"
   ]
  },
  {
   "cell_type": "markdown",
   "id": "96f7043e",
   "metadata": {},
   "source": [
    "# Stats"
   ]
  },
  {
   "cell_type": "code",
   "execution_count": 29,
   "id": "6a702654",
   "metadata": {},
   "outputs": [],
   "source": [
    "result = np.zeros(3)"
   ]
  },
  {
   "cell_type": "code",
   "execution_count": 26,
   "id": "704d8e52",
   "metadata": {},
   "outputs": [],
   "source": [
    "env = ultimatetictactoe.env(render_mode=\"rgb_array\")\n",
    "env.reset(42)"
   ]
  },
  {
   "cell_type": "code",
   "execution_count": null,
   "id": "c43a791f",
   "metadata": {},
   "outputs": [],
   "source": [
    "a1 = RandomAgent(\"player_1\")\n",
    "a2 = RandomAgent(\"player_2\")   "
   ]
  },
  {
   "cell_type": "code",
   "execution_count": 50,
   "id": "c2120da2",
   "metadata": {},
   "outputs": [],
   "source": [
    "n = 100000\n",
    "result = np.zeros(3)\n",
    "for _ in range(n):\n",
    "    r = compute_trajectory(env, a1, a2)\n",
    "    reward_1 = r['player_1']['rewards'][-1]\n",
    "    if reward_1 == 1:\n",
    "        result[0] += 1\n",
    "    elif reward_1 == -1:\n",
    "        result[1] += 1\n",
    "    elif reward_1 == 0:\n",
    "        result[2] += 1"
   ]
  },
  {
   "cell_type": "code",
   "execution_count": 51,
   "id": "ea655e8c",
   "metadata": {},
   "outputs": [
    {
     "data": {
      "text/plain": [
       "array([41.326, 36.656, 22.018])"
      ]
     },
     "execution_count": 51,
     "metadata": {},
     "output_type": "execute_result"
    }
   ],
   "source": [
    "result * 100 / n"
   ]
  }
 ],
 "metadata": {
  "kernelspec": {
   "display_name": "env (3.12.2)",
   "language": "python",
   "name": "python3"
  },
  "language_info": {
   "codemirror_mode": {
    "name": "ipython",
    "version": 3
   },
   "file_extension": ".py",
   "mimetype": "text/x-python",
   "name": "python",
   "nbconvert_exporter": "python",
   "pygments_lexer": "ipython3",
   "version": "3.12.2"
  }
 },
 "nbformat": 4,
 "nbformat_minor": 5
}
