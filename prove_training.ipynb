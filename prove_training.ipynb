{
 "cells": [
  {
   "cell_type": "code",
   "execution_count": 1,
   "id": "18e79010",
   "metadata": {},
   "outputs": [
    {
     "name": "stderr",
     "output_type": "stream",
     "text": [
      "c:\\Users\\andre\\OneDrive\\Desktop\\UNI\\magistrale\\Reinforcement\\multi_agent\\env\\Lib\\site-packages\\pygame\\pkgdata.py:25: UserWarning: pkg_resources is deprecated as an API. See https://setuptools.pypa.io/en/latest/pkg_resources.html. The pkg_resources package is slated for removal as early as 2025-11-30. Refrain from using this package or pin to Setuptools<81.\n",
      "  from pkg_resources import resource_stream, resource_exists\n"
     ]
    }
   ],
   "source": [
    "from ultimatetictactoe import ultimatetictactoe\n",
    "\n",
    "import torch\n",
    "from torch import nn"
   ]
  },
  {
   "cell_type": "code",
   "execution_count": 4,
   "id": "3fe6017e",
   "metadata": {},
   "outputs": [],
   "source": [
    "env = ultimatetictactoe.env(render_mode=\"human\")\n",
    "env.reset(42)"
   ]
  },
  {
   "cell_type": "code",
   "execution_count": 8,
   "id": "9d78a975",
   "metadata": {},
   "outputs": [
    {
     "data": {
      "text/plain": [
       "dict_keys(['observation', 'action_mask'])"
      ]
     },
     "execution_count": 8,
     "metadata": {},
     "output_type": "execute_result"
    }
   ],
   "source": [
    "env.last()[0].keys()"
   ]
  },
  {
   "cell_type": "code",
   "execution_count": null,
   "id": "37f2d2dc",
   "metadata": {},
   "outputs": [
    {
     "name": "stdout",
     "output_type": "stream",
     "text": [
      "player_1\n",
      "0\n",
      "player_2\n",
      "1\n",
      "player_1\n",
      "2\n",
      "player_2\n",
      "3\n",
      "player_1\n",
      "4\n",
      "player_2\n",
      "5\n",
      "player_1\n",
      "6\n",
      "player_2\n",
      "7\n",
      "player_1\n",
      "8\n",
      "player_2\n",
      "9\n",
      "player_1\n",
      "10\n",
      "player_2\n",
      "11\n",
      "player_1\n",
      "12\n",
      "player_2\n",
      "13\n",
      "player_1\n",
      "14\n",
      "player_2\n",
      "15\n",
      "player_1\n",
      "16\n",
      "player_2\n",
      "17\n",
      "player_1\n",
      "18\n",
      "player_2\n",
      "19\n",
      "player_1\n",
      "20\n",
      "player_2\n",
      "21\n",
      "player_1\n",
      "22\n",
      "player_2\n",
      "23\n",
      "player_1\n",
      "24\n",
      "player_2\n",
      "25\n",
      "player_1\n",
      "26\n",
      "player_2\n",
      "27\n"
     ]
    },
    {
     "ename": "KeyboardInterrupt",
     "evalue": "",
     "output_type": "error",
     "traceback": [
      "\u001b[31m---------------------------------------------------------------------------\u001b[39m",
      "\u001b[31mKeyboardInterrupt\u001b[39m                         Traceback (most recent call last)",
      "\u001b[36mCell\u001b[39m\u001b[36m \u001b[39m\u001b[32mIn[3]\u001b[39m\u001b[32m, line 17\u001b[39m\n\u001b[32m     14\u001b[39m     mask = observation[\u001b[33m\"\u001b[39m\u001b[33maction_mask\u001b[39m\u001b[33m\"\u001b[39m]\n\u001b[32m     15\u001b[39m     action = env.action_space(agent).sample(mask)\n\u001b[32m---> \u001b[39m\u001b[32m17\u001b[39m \u001b[43menv\u001b[49m\u001b[43m.\u001b[49m\u001b[43mstep\u001b[49m\u001b[43m(\u001b[49m\u001b[43maction\u001b[49m\u001b[43m)\u001b[49m\n",
      "\u001b[36mFile \u001b[39m\u001b[32mc:\\Users\\andre\\OneDrive\\Desktop\\UNI\\magistrale\\Reinforcement\\multi_agent\\env\\Lib\\site-packages\\pettingzoo\\utils\\wrappers\\order_enforcing.py:70\u001b[39m, in \u001b[36mOrderEnforcingWrapper.step\u001b[39m\u001b[34m(self, action)\u001b[39m\n\u001b[32m     68\u001b[39m \u001b[38;5;28;01melse\u001b[39;00m:\n\u001b[32m     69\u001b[39m     \u001b[38;5;28mself\u001b[39m._has_updated = \u001b[38;5;28;01mTrue\u001b[39;00m\n\u001b[32m---> \u001b[39m\u001b[32m70\u001b[39m     \u001b[38;5;28;43msuper\u001b[39;49m\u001b[43m(\u001b[49m\u001b[43m)\u001b[49m\u001b[43m.\u001b[49m\u001b[43mstep\u001b[49m\u001b[43m(\u001b[49m\u001b[43maction\u001b[49m\u001b[43m)\u001b[49m\n",
      "\u001b[36mFile \u001b[39m\u001b[32mc:\\Users\\andre\\OneDrive\\Desktop\\UNI\\magistrale\\Reinforcement\\multi_agent\\env\\Lib\\site-packages\\pettingzoo\\utils\\wrappers\\base.py:47\u001b[39m, in \u001b[36mBaseWrapper.step\u001b[39m\u001b[34m(self, action)\u001b[39m\n\u001b[32m     46\u001b[39m \u001b[38;5;28;01mdef\u001b[39;00m\u001b[38;5;250m \u001b[39m\u001b[34mstep\u001b[39m(\u001b[38;5;28mself\u001b[39m, action: ActionType) -> \u001b[38;5;28;01mNone\u001b[39;00m:\n\u001b[32m---> \u001b[39m\u001b[32m47\u001b[39m     \u001b[38;5;28;43mself\u001b[39;49m\u001b[43m.\u001b[49m\u001b[43menv\u001b[49m\u001b[43m.\u001b[49m\u001b[43mstep\u001b[49m\u001b[43m(\u001b[49m\u001b[43maction\u001b[49m\u001b[43m)\u001b[49m\n",
      "\u001b[36mFile \u001b[39m\u001b[32mc:\\Users\\andre\\OneDrive\\Desktop\\UNI\\magistrale\\Reinforcement\\multi_agent\\env\\Lib\\site-packages\\pettingzoo\\utils\\wrappers\\assert_out_of_bounds.py:26\u001b[39m, in \u001b[36mAssertOutOfBoundsWrapper.step\u001b[39m\u001b[34m(self, action)\u001b[39m\n\u001b[32m     16\u001b[39m \u001b[38;5;28;01mdef\u001b[39;00m\u001b[38;5;250m \u001b[39m\u001b[34mstep\u001b[39m(\u001b[38;5;28mself\u001b[39m, action: ActionType) -> \u001b[38;5;28;01mNone\u001b[39;00m:\n\u001b[32m     17\u001b[39m     \u001b[38;5;28;01massert\u001b[39;00m (\n\u001b[32m     18\u001b[39m         action \u001b[38;5;129;01mis\u001b[39;00m \u001b[38;5;28;01mNone\u001b[39;00m\n\u001b[32m     19\u001b[39m         \u001b[38;5;129;01mand\u001b[39;00m (\n\u001b[32m   (...)\u001b[39m\u001b[32m     24\u001b[39m         action\n\u001b[32m     25\u001b[39m     ), \u001b[33m\"\u001b[39m\u001b[33maction is not in action space\u001b[39m\u001b[33m\"\u001b[39m\n\u001b[32m---> \u001b[39m\u001b[32m26\u001b[39m     \u001b[38;5;28;43msuper\u001b[39;49m\u001b[43m(\u001b[49m\u001b[43m)\u001b[49m\u001b[43m.\u001b[49m\u001b[43mstep\u001b[49m\u001b[43m(\u001b[49m\u001b[43maction\u001b[49m\u001b[43m)\u001b[49m\n",
      "\u001b[36mFile \u001b[39m\u001b[32mc:\\Users\\andre\\OneDrive\\Desktop\\UNI\\magistrale\\Reinforcement\\multi_agent\\env\\Lib\\site-packages\\pettingzoo\\utils\\wrappers\\base.py:47\u001b[39m, in \u001b[36mBaseWrapper.step\u001b[39m\u001b[34m(self, action)\u001b[39m\n\u001b[32m     46\u001b[39m \u001b[38;5;28;01mdef\u001b[39;00m\u001b[38;5;250m \u001b[39m\u001b[34mstep\u001b[39m(\u001b[38;5;28mself\u001b[39m, action: ActionType) -> \u001b[38;5;28;01mNone\u001b[39;00m:\n\u001b[32m---> \u001b[39m\u001b[32m47\u001b[39m     \u001b[38;5;28;43mself\u001b[39;49m\u001b[43m.\u001b[49m\u001b[43menv\u001b[49m\u001b[43m.\u001b[49m\u001b[43mstep\u001b[49m\u001b[43m(\u001b[49m\u001b[43maction\u001b[49m\u001b[43m)\u001b[49m\n",
      "\u001b[36mFile \u001b[39m\u001b[32mc:\\Users\\andre\\OneDrive\\Desktop\\UNI\\magistrale\\Reinforcement\\multi_agent\\env\\Lib\\site-packages\\pettingzoo\\utils\\wrappers\\terminate_illegal.py:78\u001b[39m, in \u001b[36mTerminateIllegalWrapper.step\u001b[39m\u001b[34m(self, action)\u001b[39m\n\u001b[32m     76\u001b[39m     \u001b[38;5;28mself\u001b[39m._terminated = \u001b[38;5;28;01mTrue\u001b[39;00m\n\u001b[32m     77\u001b[39m \u001b[38;5;28;01melse\u001b[39;00m:\n\u001b[32m---> \u001b[39m\u001b[32m78\u001b[39m     \u001b[38;5;28;43msuper\u001b[39;49m\u001b[43m(\u001b[49m\u001b[43m)\u001b[49m\u001b[43m.\u001b[49m\u001b[43mstep\u001b[49m\u001b[43m(\u001b[49m\u001b[43maction\u001b[49m\u001b[43m)\u001b[49m\n",
      "\u001b[36mFile \u001b[39m\u001b[32mc:\\Users\\andre\\OneDrive\\Desktop\\UNI\\magistrale\\Reinforcement\\multi_agent\\env\\Lib\\site-packages\\pettingzoo\\utils\\wrappers\\base.py:47\u001b[39m, in \u001b[36mBaseWrapper.step\u001b[39m\u001b[34m(self, action)\u001b[39m\n\u001b[32m     46\u001b[39m \u001b[38;5;28;01mdef\u001b[39;00m\u001b[38;5;250m \u001b[39m\u001b[34mstep\u001b[39m(\u001b[38;5;28mself\u001b[39m, action: ActionType) -> \u001b[38;5;28;01mNone\u001b[39;00m:\n\u001b[32m---> \u001b[39m\u001b[32m47\u001b[39m     \u001b[38;5;28;43mself\u001b[39;49m\u001b[43m.\u001b[49m\u001b[43menv\u001b[49m\u001b[43m.\u001b[49m\u001b[43mstep\u001b[49m\u001b[43m(\u001b[49m\u001b[43maction\u001b[49m\u001b[43m)\u001b[49m\n",
      "\u001b[36mFile \u001b[39m\u001b[32mc:\\Users\\andre\\OneDrive\\Desktop\\UNI\\magistrale\\Reinforcement\\multi_agent\\SuperTicTacToe\\ultimatetictactoe\\ultimatetictactoe.py:135\u001b[39m, in \u001b[36mraw_env.step\u001b[39m\u001b[34m(self, action)\u001b[39m\n\u001b[32m    132\u001b[39m \u001b[38;5;28mself\u001b[39m.agent_selection = \u001b[38;5;28mself\u001b[39m._agent_selector.next()\n\u001b[32m    134\u001b[39m \u001b[38;5;28;01mif\u001b[39;00m \u001b[38;5;28mself\u001b[39m.render_mode == \u001b[33m\"\u001b[39m\u001b[33mhuman\u001b[39m\u001b[33m\"\u001b[39m:\n\u001b[32m--> \u001b[39m\u001b[32m135\u001b[39m     \u001b[38;5;28;43mself\u001b[39;49m\u001b[43m.\u001b[49m\u001b[43mrender\u001b[49m\u001b[43m(\u001b[49m\u001b[43m)\u001b[49m\n",
      "\u001b[36mFile \u001b[39m\u001b[32mc:\\Users\\andre\\OneDrive\\Desktop\\UNI\\magistrale\\Reinforcement\\multi_agent\\SuperTicTacToe\\ultimatetictactoe\\ultimatetictactoe.py:244\u001b[39m, in \u001b[36mraw_env.render\u001b[39m\u001b[34m(self)\u001b[39m\n\u001b[32m    242\u001b[39m \u001b[38;5;28;01mif\u001b[39;00m \u001b[38;5;28mself\u001b[39m.render_mode == \u001b[33m\"\u001b[39m\u001b[33mhuman\u001b[39m\u001b[33m\"\u001b[39m:\n\u001b[32m    243\u001b[39m     pygame.display.update()\n\u001b[32m--> \u001b[39m\u001b[32m244\u001b[39m     \u001b[38;5;28;43mself\u001b[39;49m\u001b[43m.\u001b[49m\u001b[43mclock\u001b[49m\u001b[43m.\u001b[49m\u001b[43mtick\u001b[49m\u001b[43m(\u001b[49m\u001b[38;5;28;43mself\u001b[39;49m\u001b[43m.\u001b[49m\u001b[43mmetadata\u001b[49m\u001b[43m[\u001b[49m\u001b[33;43m\"\u001b[39;49m\u001b[33;43mrender_fps\u001b[39;49m\u001b[33;43m\"\u001b[39;49m\u001b[43m]\u001b[49m\u001b[43m)\u001b[49m\n\u001b[32m    246\u001b[39m observation = np.array(pygame.surfarray.pixels3d(\u001b[38;5;28mself\u001b[39m.screen))\n\u001b[32m    248\u001b[39m \u001b[38;5;28;01mreturn\u001b[39;00m (\n\u001b[32m    249\u001b[39m     np.transpose(observation, axes=(\u001b[32m1\u001b[39m, \u001b[32m0\u001b[39m, \u001b[32m2\u001b[39m))\n\u001b[32m    250\u001b[39m     \u001b[38;5;28;01mif\u001b[39;00m \u001b[38;5;28mself\u001b[39m.render_mode == \u001b[33m\"\u001b[39m\u001b[33mrgb_array\u001b[39m\u001b[33m\"\u001b[39m\n\u001b[32m    251\u001b[39m     \u001b[38;5;28;01melse\u001b[39;00m \u001b[38;5;28;01mNone\u001b[39;00m\n\u001b[32m    252\u001b[39m )\n",
      "\u001b[31mKeyboardInterrupt\u001b[39m: "
     ]
    }
   ],
   "source": [
    "c = 0\n",
    "for agent in env.agent_iter():\n",
    "    print(agent)\n",
    "    print(c)\n",
    "    c += 1\n",
    "    observation, reward, termination, truncation, info = env.last()\n",
    "\n",
    "    if termination or truncation:\n",
    "        action = None\n",
    "    else:\n",
    "        # this is where you would insert your policy\n",
    "        mask = observation[\"action_mask\"]\n",
    "        action = env.action_space(agent).sample(mask)\n",
    "\n",
    "    env.step(action)\n"
   ]
  },
  {
   "cell_type": "code",
   "execution_count": null,
   "id": "27f47e00",
   "metadata": {},
   "outputs": [],
   "source": [
    "def trajectory(env, agent1, agent2):\n",
    "    env.reset()\n",
    "\n",
    "    states1, states2 = [], []\n",
    "    actions1, actions2 = [], []\n",
    "    rewards1, rewards2 = [], []\n",
    "    action_mask = None\n",
    "    states1.append(env.last)\n",
    "\n",
    "    for agent in env.agent_iter():\n",
    "\n",
    "    return states1, states2, actions1, actions2, rewards1, rewards2"
   ]
  },
  {
   "cell_type": "code",
   "execution_count": null,
   "id": "92f7269d",
   "metadata": {},
   "outputs": [],
   "source": [
    "Policy = nn.Sequential(\n",
    "    nn.Conv2d(3, 2, 3, padding=1),\n",
    "    nn.Conv2d(2, 5, 3, padding=1),\n",
    "    nn.BatchNorm2d(5),\n",
    "    nn.ReLU(),\n",
    "    nn.Conv2d(5, 5, 3, padding=1),\n",
    "    nn.BatchNorm2d(5),\n",
    "    nn.ReLU(),\n",
    "    nn.Flatten(),\n",
    "    nn.Linear(405, 405),\n",
    "    nn.ReLU(),\n",
    "    nn.Linear(405, 200),\n",
    "    nn.ReLU(),\n",
    "    nn.Linear(200, 81),\n",
    "    nn.Softmax()\n",
    ")"
   ]
  },
  {
   "cell_type": "code",
   "execution_count": null,
   "id": "649df800",
   "metadata": {},
   "outputs": [],
   "source": [
    "def run()"
   ]
  },
  {
   "cell_type": "code",
   "execution_count": 51,
   "id": "ff96c927",
   "metadata": {},
   "outputs": [],
   "source": [
    "t = torch.zeros((2, 3, 9, 9))"
   ]
  },
  {
   "cell_type": "code",
   "execution_count": 52,
   "id": "b1d598e2",
   "metadata": {},
   "outputs": [],
   "source": [
    "# some form of masking"
   ]
  }
 ],
 "metadata": {
  "kernelspec": {
   "display_name": "env (3.12.2)",
   "language": "python",
   "name": "python3"
  },
  "language_info": {
   "codemirror_mode": {
    "name": "ipython",
    "version": 3
   },
   "file_extension": ".py",
   "mimetype": "text/x-python",
   "name": "python",
   "nbconvert_exporter": "python",
   "pygments_lexer": "ipython3",
   "version": "3.12.2"
  }
 },
 "nbformat": 4,
 "nbformat_minor": 5
}
