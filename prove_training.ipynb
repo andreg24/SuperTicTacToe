{
 "cells": [
  {
   "cell_type": "code",
   "execution_count": 1,
   "id": "18e79010",
   "metadata": {},
   "outputs": [
    {
     "name": "stderr",
     "output_type": "stream",
     "text": [
      "c:\\Users\\andre\\OneDrive\\Desktop\\UNI\\magistrale\\Reinforcement\\multi_agent\\env\\Lib\\site-packages\\pygame\\pkgdata.py:25: UserWarning: pkg_resources is deprecated as an API. See https://setuptools.pypa.io/en/latest/pkg_resources.html. The pkg_resources package is slated for removal as early as 2025-11-30. Refrain from using this package or pin to Setuptools<81.\n",
      "  from pkg_resources import resource_stream, resource_exists\n"
     ]
    }
   ],
   "source": [
    "from ultimatetictactoe import ultimatetictactoe\n",
    "\n",
    "import torch\n",
    "from torch import nn\n",
    "\n",
    "import numpy as np\n",
    "\n",
    "import random"
   ]
  },
  {
   "cell_type": "code",
   "execution_count": null,
   "id": "c73d0449",
   "metadata": {},
   "outputs": [],
   "source": [
    "Policy = nn.Sequential(\n",
    "    nn.Conv2d(3, 2, 3, padding=1),\n",
    "    nn.Conv2d(2, 5, 3, padding=1),\n",
    "    nn.BatchNorm2d(5),\n",
    "    nn.ReLU(),\n",
    "    nn.Conv2d(5, 5, 3, padding=1),\n",
    "    nn.BatchNorm2d(5),\n",
    "    nn.ReLU(),\n",
    "    nn.Flatten(),\n",
    "    nn.Linear(405, 405),\n",
    "    nn.ReLU(),\n",
    "    nn.Linear(405, 200),\n",
    "    nn.ReLU(),\n",
    "    nn.Linear(200, 81),\n",
    "    nn.Softmax()\n",
    ")"
   ]
  },
  {
   "cell_type": "code",
   "execution_count": 3,
   "id": "3fe6017e",
   "metadata": {},
   "outputs": [],
   "source": [
    "env = ultimatetictactoe.env(render_mode=\"human\")\n",
    "env.reset(42)"
   ]
  },
  {
   "cell_type": "code",
   "execution_count": 4,
   "id": "37f2d2dc",
   "metadata": {},
   "outputs": [],
   "source": [
    "# c = 0\n",
    "# for agent in env.agent_iter():\n",
    "#     print(agent)\n",
    "#     c += 1\n",
    "#     observation, reward, termination, truncation, info = env.last()\n",
    "\n",
    "#     if termination or truncation:\n",
    "#         action = None\n",
    "#     else:\n",
    "#         # this is where you would insert your policy\n",
    "#         mask = observation[\"action_mask\"]\n",
    "#         action = env.action_space(agent).sample(mask)\n",
    "\n",
    "#     env.step(action)"
   ]
  },
  {
   "cell_type": "code",
   "execution_count": null,
   "id": "b7b5267e",
   "metadata": {},
   "outputs": [],
   "source": [
    "class Agent:\n",
    "\n",
    "    def __init__(self, name, type='random'):\n",
    "        self.name = name\n",
    "    \n",
    "    def pick_action(self, env):\n",
    "        action_mask = env.last()[0]['action_mask']\n",
    "        return env.action_space(self.name).sample(action_mask)"
   ]
  },
  {
   "cell_type": "code",
   "execution_count": 48,
   "id": "27f47e00",
   "metadata": {},
   "outputs": [],
   "source": [
    "def trajectory(env, agent1, agent2):\n",
    "    env.reset()\n",
    "\n",
    "    states = []\n",
    "    actions = []\n",
    "    rewards = []\n",
    "    observation = env.last()[0]\n",
    "\n",
    "    counter = 0\n",
    "    for agent in env.agent_iter():\n",
    "        \n",
    "        observation, reward, termination, truncation, info = env.last()\n",
    "        if termination or truncation:\n",
    "            break\n",
    "        state = observation['observation']\n",
    "\n",
    "        if agent == \"player_1\":\n",
    "            action = agent1.pick_action(env)\n",
    "        else:\n",
    "            action = agent2.pick_action(env)\n",
    "        \n",
    "        states.append(state)\n",
    "        actions.append(action)\n",
    "        rewards.append(reward)\n",
    "\n",
    "        # rewards\n",
    "        if counter >= 2:\n",
    "            if agent == \"player_1\":\n",
    "                rewards\n",
    "        \n",
    "        env.step(action)\n",
    "        counter += 1\n",
    "    return states, actions, rewards\n",
    "\n",
    "def split_trajectory(trajectory):\n",
    "    # states, actions, rewards = trajectory\n",
    "    # return {\"player_1\": {'states': states[0::2], 'actions': actions[0::2], 'rewards': rewards}}"
   ]
  },
  {
   "cell_type": "code",
   "execution_count": 50,
   "id": "9e897887",
   "metadata": {},
   "outputs": [],
   "source": [
    "a1 = Agent(\"player_1\")\n",
    "a2 = Agent(\"player_2\")"
   ]
  },
  {
   "cell_type": "code",
   "execution_count": 55,
   "id": "b432fe21",
   "metadata": {},
   "outputs": [],
   "source": [
    "env.metadata['render_fps'] = 5"
   ]
  },
  {
   "cell_type": "code",
   "execution_count": 57,
   "id": "5915cc91",
   "metadata": {},
   "outputs": [],
   "source": [
    "r = trajectory(env, a1, a2)"
   ]
  },
  {
   "cell_type": "code",
   "execution_count": 58,
   "id": "92c1b78c",
   "metadata": {},
   "outputs": [],
   "source": [
    "states, actions, rewards = r"
   ]
  },
  {
   "cell_type": "code",
   "execution_count": null,
   "id": "6755cb96",
   "metadata": {},
   "outputs": [],
   "source": [
    "Policy = nn.Sequential(\n",
    "    nn.Conv2d(3, 2, 3, padding=1),\n",
    "    nn.Conv2d(2, 5, 3, padding=1),\n",
    "    nn.BatchNorm2d(5),\n",
    "    nn.ReLU(),\n",
    "    nn.Conv2d(5, 5, 3, padding=1),\n",
    "    nn.BatchNorm2d(5),\n",
    "    nn.ReLU(),\n",
    "    nn.Flatten(),\n",
    "    nn.Linear(405, 405),\n",
    "    nn.ReLU(),\n",
    "    nn.Linear(405, 200),\n",
    "    nn.ReLU(),\n",
    "    nn.Linear(200, 81),\n",
    "    nn.Softmax()\n",
    ")"
   ]
  }
 ],
 "metadata": {
  "kernelspec": {
   "display_name": "env (3.12.2)",
   "language": "python",
   "name": "python3"
  },
  "language_info": {
   "codemirror_mode": {
    "name": "ipython",
    "version": 3
   },
   "file_extension": ".py",
   "mimetype": "text/x-python",
   "name": "python",
   "nbconvert_exporter": "python",
   "pygments_lexer": "ipython3",
   "version": "3.12.2"
  }
 },
 "nbformat": 4,
 "nbformat_minor": 5
}
