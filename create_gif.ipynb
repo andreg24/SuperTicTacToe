{
 "cells": [
  {
   "cell_type": "code",
   "execution_count": null,
   "id": "79636bef",
   "metadata": {},
   "outputs": [],
   "source": [
    "from PIL import Image"
   ]
  },
  {
   "cell_type": "code",
   "execution_count": null,
   "id": "121ea335",
   "metadata": {},
   "outputs": [],
   "source": [
    "from __future__ import annotations\n",
    "\n",
    "import multi_agent.SuperTicTacToe.supertictactoe.supertictactoe as supertictactoe\n",
    "from board import SuperTicTacToeBoard"
   ]
  },
  {
   "cell_type": "code",
   "execution_count": 2,
   "id": "358ad244",
   "metadata": {},
   "outputs": [],
   "source": [
    "env = supertictactoe.env(render_mode=\"rgb_array\")\n",
    "env.reset(42)"
   ]
  },
  {
   "cell_type": "code",
   "execution_count": 3,
   "id": "0084d854",
   "metadata": {},
   "outputs": [],
   "source": [
    "images = []"
   ]
  },
  {
   "cell_type": "code",
   "execution_count": 4,
   "id": "d15eb341",
   "metadata": {},
   "outputs": [
    {
     "name": "stdout",
     "output_type": "stream",
     "text": [
      "0\n",
      "1\n",
      "2\n",
      "3\n",
      "4\n",
      "5\n",
      "6\n",
      "7\n",
      "8\n",
      "9\n",
      "10\n",
      "11\n",
      "12\n",
      "13\n",
      "14\n",
      "15\n",
      "16\n",
      "17\n",
      "18\n",
      "19\n",
      "20\n",
      "21\n",
      "22\n",
      "23\n",
      "24\n",
      "25\n",
      "26\n",
      "27\n",
      "28\n",
      "29\n",
      "30\n",
      "31\n",
      "32\n",
      "33\n",
      "34\n",
      "35\n",
      "36\n",
      "37\n",
      "38\n",
      "39\n",
      "40\n",
      "41\n",
      "42\n",
      "43\n",
      "44\n",
      "45\n",
      "46\n",
      "47\n",
      "48\n",
      "49\n",
      "50\n"
     ]
    }
   ],
   "source": [
    "c = 0\n",
    "for agent in env.agent_iter():\n",
    "    images.append(env.render())\n",
    "    print(c)\n",
    "    c += 1\n",
    "    observation, reward, termination, truncation, info = env.last()\n",
    "\n",
    "    if termination or truncation:\n",
    "        action = None\n",
    "    else:\n",
    "        # this is where you would insert your policy\n",
    "        mask = observation[\"action_mask\"]\n",
    "        action = env.action_space(agent).sample(mask)\n",
    "\n",
    "    env.step(action)\n",
    "images.append(env.render())"
   ]
  },
  {
   "cell_type": "code",
   "execution_count": null,
   "id": "0427954e",
   "metadata": {},
   "outputs": [],
   "source": [
    "images[0].shape"
   ]
  },
  {
   "cell_type": "code",
   "execution_count": null,
   "id": "99fe1f26",
   "metadata": {},
   "outputs": [],
   "source": [
    "imgs_np = np.zeros((n, 500, 500, 3))\n",
    "for i in range(n):\n",
    "    imgs_np[i] = images[i]\n",
    "imgs = [Image.fromarray(img) for img in images]"
   ]
  },
  {
   "cell_type": "code",
   "execution_count": null,
   "id": "81f188fc",
   "metadata": {},
   "outputs": [],
   "source": [
    "imgs[0].save(\"array.gif\", save_all=True, append_images=imgs[1:], duration=200, loop=0)"
   ]
  }
 ],
 "metadata": {
  "kernelspec": {
   "display_name": "env (3.12.2)",
   "language": "python",
   "name": "python3"
  },
  "language_info": {
   "codemirror_mode": {
    "name": "ipython",
    "version": 3
   },
   "file_extension": ".py",
   "mimetype": "text/x-python",
   "name": "python",
   "nbconvert_exporter": "python",
   "pygments_lexer": "ipython3",
   "version": "3.12.2"
  }
 },
 "nbformat": 4,
 "nbformat_minor": 5
}
